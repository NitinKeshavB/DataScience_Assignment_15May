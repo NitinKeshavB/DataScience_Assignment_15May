{
 "cells": [
  {
   "cell_type": "code",
   "execution_count": 12,
   "metadata": {},
   "outputs": [
    {
     "name": "stdout",
     "output_type": "stream",
     "text": [
      "Enter the list: a,0,2\n",
      "The entry is a\n",
      "Oops! <class'ValueError'>occured. Next entry.\n",
      "The entry is 0\n",
      "Oops! <class'ZeroDivisionError'>occured. Next entry.\n",
      "Entry is 2\n",
      "Reciprocal of 2 is 0.5\n"
     ]
    }
   ],
   "source": [
    "\"\"\"1) Write a Python program which accepts a list named : randomList = ['a', 0, 2]. Use exception handling using try-catch which\n",
    "gives the output as:\n",
    "Output:\n",
    "1) If the List element is a alphabet or string, the output will be\n",
    "The entry is a\n",
    "Oops! <class\n",
    "'ValueError'>occured. Next entry.\n",
    "2) If the List element is “0”,the output will be\n",
    "The entry is 0\n",
    "Oops! <class '\n",
    "ZeroDivisionError’>occured. Next entry.\n",
    "3) If the List element is and integer except 0,then output will be\n",
    "The entry is 2\n",
    "The reciprocal of 2 is 0.5 // reciprocal of an integer\"\"\"\n",
    "\n",
    "lst=[]\n",
    "val = input(\"Enter the list: \")\n",
    "lst=val.split(',')\n",
    "for l in lst:\n",
    "    try:\n",
    "        divval=1/int(l)\n",
    "    except ValueError as v:\n",
    "        print(\"The entry is {}\".format(l))\n",
    "        print(\"Oops! <class'ValueError'>occured. Next entry.\")\n",
    "    except ZeroDivisionError as Z:\n",
    "        print(\"The entry is 0\")\n",
    "        print(\"Oops! <class'ZeroDivisionError'>occured. Next entry.\")\n",
    "    else:\n",
    "        print(\"Entry is {}\".format(l))\n",
    "        print(\"Reciprocal of {} is {}\".format(l,divval))\n",
    "\n",
    "\n",
    "    \n",
    "\n",
    "    "
   ]
  },
  {
   "cell_type": "code",
   "execution_count": 16,
   "metadata": {},
   "outputs": [
    {
     "name": "stdout",
     "output_type": "stream",
     "text": [
      "Enter List: a,b,c,d\n",
      "list index out of range\n"
     ]
    }
   ],
   "source": [
    "\"\"\"Write a Python program to give exception “Array Out of Bound” if the user wants to access the elements beyond the list\n",
    "size (use try and except)\"\"\"\n",
    "\n",
    "l=input(\"Enter List: \").split(',')\n",
    "maxval=len(l)\n",
    "try:\n",
    "    val=l[maxval]\n",
    "except Exception as e:\n",
    "    print(e)\n",
    "\n",
    "    "
   ]
  },
  {
   "cell_type": "code",
   "execution_count": 47,
   "metadata": {},
   "outputs": [
    {
     "name": "stdout",
     "output_type": "stream",
     "text": [
      "Fibonacci series - 8\n"
     ]
    }
   ],
   "source": [
    "\"\"\"3) Write a python module script that contains fib2() method to calculate the Fibonacci series till 1000 and save it as fibo.py.\n",
    "Note : The module created as fibo.py has to be placed in lib folder:\n",
    "\"\"\"\n",
    "from fibo import *\n",
    "\n",
    "print(\"Fibonacci series - {}\".format(fib2(6)))   \n",
    "    \n"
   ]
  },
  {
   "cell_type": "code",
   "execution_count": 52,
   "metadata": {},
   "outputs": [
    {
     "name": "stdout",
     "output_type": "stream",
     "text": [
      "Enter the string: nitin\n",
      "val is palindrome\n"
     ]
    }
   ],
   "source": [
    "\"\"\"4) Write a python module script that contains ispalindrome() method to calculate the input string as palindrome string or\n",
    "not and save it as palindrome.py.\"\"\"\n",
    "\n",
    "\n",
    "\"\"\"\n",
    "def ifpalindrome(val):\n",
    "    if val == val[::-1]:\n",
    "        return \"val is palindrome\"\n",
    "    else:\n",
    "        return \"val is not palindrome\"\n",
    "\n",
    "\"\"\"\n",
    "from palindrome import ifpalindrome\n",
    "\n",
    "instr=input(\"Enter the string: \")\n",
    "print(ifpalindrome(instr))\n",
    "        \n",
    "    "
   ]
  },
  {
   "cell_type": "code",
   "execution_count": 14,
   "metadata": {},
   "outputs": [
    {
     "name": "stdout",
     "output_type": "stream",
     "text": [
      "Enter string to encrypt: Hi AcadGild!\n",
      "Encrypted Text is b'gAAAAABc1mOxg_oEK-OhfQKyloVPu0ETHtJCjFeXuAo4Kgns75Ylvjj4nO_DWY3sWiSTNNoZntsLTv2w2yXd6oHjeg1ZssJXMA=='\n"
     ]
    },
    {
     "data": {
      "text/plain": [
       "\"Decrypted Text is b'Hi AcadGild!'\""
      ]
     },
     "execution_count": 14,
     "metadata": {},
     "output_type": "execute_result"
    }
   ],
   "source": [
    "\"\"\"5) Write a program in Python with one class called Cipher. Within the constructor of this class, ask user for a string \n",
    "and store it. Use a static variable, key to store a randomly generated integer between 1 and 50 inclusive. \n",
    "Implement two methods,\n",
    "encrypt and decrypt within this class. Encrypt generates and prints a cipher text using the user-entered string \n",
    "and the key and\n",
    "ecrypt generates decrypted string from ciphertext. The cipher only encrypts alpha and numeric (A-Z, a-z, 0-9). All Symbols,\n",
    "such as - , ; %, remain unencrypted. The cipher text can have special characters. \n",
    "Use generator expression to filter out alpha\n",
    "and numeric characters of the input string and to generate cipher text. Create an instance of this class,\n",
    "encrypt and decrypt\n",
    "back the user entered string.\n",
    "\n",
    "\"\"\"\n",
    "\n",
    "from Crypto.Cipher import AES\n",
    "from cryptography.fernet import Fernet\n",
    "import random\n",
    "\n",
    "class Cipher:\n",
    "\n",
    "        \n",
    "    def __init__(self,txt):\n",
    "        self.txt=str.encode(txt) \n",
    "        self.Passkey=Fernet.generate_key()\n",
    "        cipher_suite = Fernet(self.Passkey)\n",
    "        self.encoded_text = cipher_suite.encrypt(self.txt)\n",
    "        self.decoded_text = cipher_suite.decrypt(self.encoded_text)\n",
    "        \n",
    "        \n",
    "        \n",
    "    def encrypt(self):    \n",
    "        print (\"Encrypted Text is {}\".format(self.encoded_text))\n",
    "        return \"Encrypted Text is {}\".format(self.encoded_text)\n",
    "    \n",
    "    def decrypt(self):               \n",
    "        return \"Decrypted Text is {}\".format(self.decoded_text)\n",
    "    \n",
    "\n",
    "\n",
    "\n",
    "cip=Cipher(input(\"Enter string to encrypt: \"))\n",
    "cip.encrypt()\n",
    "cip.decrypt()\n",
    "\n",
    "\n",
    "\n",
    "\n",
    "        \n",
    "\n",
    "\n"
   ]
  },
  {
   "cell_type": "code",
   "execution_count": 5,
   "metadata": {},
   "outputs": [],
   "source": [
    "\"\"\"6) Get Data from the following link:\n",
    "http://files.grouplens.org/datasets/movielens/ml-20m.zip\n",
    "We will be using the following files for this exercise:\n",
    "\n",
    "ratings.csv : userId,movieId,rating, timestamp\n",
    "tags.csv : userId,movieId, tag, timestamp\n",
    "movies.csv : movieId, title, genres\n",
    "\n",
    "1) Read the dataset using pandas.\"\"\"\n",
    "\n",
    "import pandas as pd\n",
    "import numpy as np\n",
    "\n",
    "moviesdf=pd.read_csv(r'C:\\Users\\Shruthi\\Desktop\\PythonDataScience\\Assignment- 10-May\\ml-20m\\movies.csv')\n",
    "tagsdf=pd.read_csv(r'C:\\Users\\Shruthi\\Desktop\\PythonDataScience\\Assignment- 10-May\\ml-20m\\tags.csv')\n",
    "\n"
   ]
  },
  {
   "cell_type": "code",
   "execution_count": 8,
   "metadata": {},
   "outputs": [
    {
     "data": {
      "text/plain": [
       "(20000263, 4)"
      ]
     },
     "execution_count": 8,
     "metadata": {},
     "output_type": "execute_result"
    }
   ],
   "source": [
    "ratingsdf=pd.read_csv(r'C:\\Users\\Shruthi\\Desktop\\PythonDataScience\\Assignment- 10-May\\ml-20m\\ratings.csv')\n",
    "ratingsdf.shape"
   ]
  },
  {
   "cell_type": "code",
   "execution_count": 9,
   "metadata": {},
   "outputs": [
    {
     "data": {
      "text/plain": [
       "(465564, 4)"
      ]
     },
     "execution_count": 9,
     "metadata": {},
     "output_type": "execute_result"
    }
   ],
   "source": [
    "tagsdf.shape"
   ]
  },
  {
   "cell_type": "code",
   "execution_count": 10,
   "metadata": {},
   "outputs": [
    {
     "data": {
      "text/plain": [
       "(27278, 3)"
      ]
     },
     "execution_count": 10,
     "metadata": {},
     "output_type": "execute_result"
    }
   ],
   "source": [
    "moviesdf.shape"
   ]
  },
  {
   "cell_type": "code",
   "execution_count": 13,
   "metadata": {},
   "outputs": [
    {
     "data": {
      "text/plain": [
       "userId        int64\n",
       "movieId       int64\n",
       "tag          object\n",
       "timestamp     int64\n",
       "dtype: object"
      ]
     },
     "execution_count": 13,
     "metadata": {},
     "output_type": "execute_result"
    }
   ],
   "source": [
    "\"2) Extract the first row from tags and print its type.\"\n",
    "tagsdf.head(1).dtypes"
   ]
  },
  {
   "cell_type": "code",
   "execution_count": 18,
   "metadata": {},
   "outputs": [
    {
     "data": {
      "text/html": [
       "<div>\n",
       "<style scoped>\n",
       "    .dataframe tbody tr th:only-of-type {\n",
       "        vertical-align: middle;\n",
       "    }\n",
       "\n",
       "    .dataframe tbody tr th {\n",
       "        vertical-align: top;\n",
       "    }\n",
       "\n",
       "    .dataframe thead th {\n",
       "        text-align: right;\n",
       "    }\n",
       "</style>\n",
       "<table border=\"1\" class=\"dataframe\">\n",
       "  <thead>\n",
       "    <tr style=\"text-align: right;\">\n",
       "      <th></th>\n",
       "      <th>userId</th>\n",
       "      <th>movieId</th>\n",
       "      <th>tag</th>\n",
       "      <th>timestamp</th>\n",
       "    </tr>\n",
       "  </thead>\n",
       "  <tbody>\n",
       "    <tr>\n",
       "      <th>0</th>\n",
       "      <td>18</td>\n",
       "      <td>4141</td>\n",
       "      <td>Mark Waters</td>\n",
       "      <td>1240597180</td>\n",
       "    </tr>\n",
       "    <tr>\n",
       "      <th>11</th>\n",
       "      <td>65</td>\n",
       "      <td>1783</td>\n",
       "      <td>noir thriller</td>\n",
       "      <td>1368149983</td>\n",
       "    </tr>\n",
       "    <tr>\n",
       "      <th>2000</th>\n",
       "      <td>910</td>\n",
       "      <td>68554</td>\n",
       "      <td>conspiracy theory</td>\n",
       "      <td>1368043943</td>\n",
       "    </tr>\n",
       "  </tbody>\n",
       "</table>\n",
       "</div>"
      ],
      "text/plain": [
       "      userId  movieId                tag   timestamp\n",
       "0         18     4141        Mark Waters  1240597180\n",
       "11        65     1783      noir thriller  1368149983\n",
       "2000     910    68554  conspiracy theory  1368043943"
      ]
     },
     "execution_count": 18,
     "metadata": {},
     "output_type": "execute_result"
    }
   ],
   "source": [
    "\"3) Extract row 0, 11, 2000 from tags DataFrame.\"\n",
    "\n",
    "tagsdf.iloc[[0,11,2000]]\n"
   ]
  },
  {
   "cell_type": "code",
   "execution_count": 20,
   "metadata": {},
   "outputs": [
    {
     "data": {
      "text/html": [
       "<div>\n",
       "<style scoped>\n",
       "    .dataframe tbody tr th:only-of-type {\n",
       "        vertical-align: middle;\n",
       "    }\n",
       "\n",
       "    .dataframe tbody tr th {\n",
       "        vertical-align: top;\n",
       "    }\n",
       "\n",
       "    .dataframe thead th {\n",
       "        text-align: right;\n",
       "    }\n",
       "</style>\n",
       "<table border=\"1\" class=\"dataframe\">\n",
       "  <thead>\n",
       "    <tr style=\"text-align: right;\">\n",
       "      <th></th>\n",
       "      <th>userId</th>\n",
       "      <th>movieId</th>\n",
       "      <th>rating</th>\n",
       "      <th>timestamp</th>\n",
       "    </tr>\n",
       "  </thead>\n",
       "  <tbody>\n",
       "    <tr>\n",
       "      <th>count</th>\n",
       "      <td>2.000026e+07</td>\n",
       "      <td>2.000026e+07</td>\n",
       "      <td>2.000026e+07</td>\n",
       "      <td>2.000026e+07</td>\n",
       "    </tr>\n",
       "    <tr>\n",
       "      <th>mean</th>\n",
       "      <td>6.904587e+04</td>\n",
       "      <td>9.041567e+03</td>\n",
       "      <td>3.525529e+00</td>\n",
       "      <td>1.100918e+09</td>\n",
       "    </tr>\n",
       "    <tr>\n",
       "      <th>std</th>\n",
       "      <td>4.003863e+04</td>\n",
       "      <td>1.978948e+04</td>\n",
       "      <td>1.051989e+00</td>\n",
       "      <td>1.621694e+08</td>\n",
       "    </tr>\n",
       "    <tr>\n",
       "      <th>min</th>\n",
       "      <td>1.000000e+00</td>\n",
       "      <td>1.000000e+00</td>\n",
       "      <td>5.000000e-01</td>\n",
       "      <td>7.896520e+08</td>\n",
       "    </tr>\n",
       "    <tr>\n",
       "      <th>25%</th>\n",
       "      <td>3.439500e+04</td>\n",
       "      <td>9.020000e+02</td>\n",
       "      <td>3.000000e+00</td>\n",
       "      <td>9.667977e+08</td>\n",
       "    </tr>\n",
       "    <tr>\n",
       "      <th>50%</th>\n",
       "      <td>6.914100e+04</td>\n",
       "      <td>2.167000e+03</td>\n",
       "      <td>3.500000e+00</td>\n",
       "      <td>1.103556e+09</td>\n",
       "    </tr>\n",
       "    <tr>\n",
       "      <th>75%</th>\n",
       "      <td>1.036370e+05</td>\n",
       "      <td>4.770000e+03</td>\n",
       "      <td>4.000000e+00</td>\n",
       "      <td>1.225642e+09</td>\n",
       "    </tr>\n",
       "    <tr>\n",
       "      <th>max</th>\n",
       "      <td>1.384930e+05</td>\n",
       "      <td>1.312620e+05</td>\n",
       "      <td>5.000000e+00</td>\n",
       "      <td>1.427784e+09</td>\n",
       "    </tr>\n",
       "  </tbody>\n",
       "</table>\n",
       "</div>"
      ],
      "text/plain": [
       "             userId       movieId        rating     timestamp\n",
       "count  2.000026e+07  2.000026e+07  2.000026e+07  2.000026e+07\n",
       "mean   6.904587e+04  9.041567e+03  3.525529e+00  1.100918e+09\n",
       "std    4.003863e+04  1.978948e+04  1.051989e+00  1.621694e+08\n",
       "min    1.000000e+00  1.000000e+00  5.000000e-01  7.896520e+08\n",
       "25%    3.439500e+04  9.020000e+02  3.000000e+00  9.667977e+08\n",
       "50%    6.914100e+04  2.167000e+03  3.500000e+00  1.103556e+09\n",
       "75%    1.036370e+05  4.770000e+03  4.000000e+00  1.225642e+09\n",
       "max    1.384930e+05  1.312620e+05  5.000000e+00  1.427784e+09"
      ]
     },
     "execution_count": 20,
     "metadata": {},
     "output_type": "execute_result"
    }
   ],
   "source": [
    "\"5) Calculate descriptive statistics for the 'ratings' column of the ratings DataFrame. Verify using describe().\"\n",
    "\n",
    "ratingsdf.describe()\n"
   ]
  },
  {
   "cell_type": "code",
   "execution_count": 21,
   "metadata": {},
   "outputs": [
    {
     "data": {
      "text/plain": [
       "0.5"
      ]
     },
     "execution_count": 21,
     "metadata": {},
     "output_type": "execute_result"
    }
   ],
   "source": [
    "ratingsdf['rating'].min()\n"
   ]
  },
  {
   "cell_type": "code",
   "execution_count": 22,
   "metadata": {},
   "outputs": [
    {
     "data": {
      "text/plain": [
       "5.0"
      ]
     },
     "execution_count": 22,
     "metadata": {},
     "output_type": "execute_result"
    }
   ],
   "source": [
    "ratingsdf['rating'].max()"
   ]
  },
  {
   "cell_type": "code",
   "execution_count": 23,
   "metadata": {},
   "outputs": [
    {
     "data": {
      "text/plain": [
       "20000263"
      ]
     },
     "execution_count": 23,
     "metadata": {},
     "output_type": "execute_result"
    }
   ],
   "source": [
    "ratingsdf['rating'].count()"
   ]
  },
  {
   "cell_type": "code",
   "execution_count": 24,
   "metadata": {},
   "outputs": [
    {
     "data": {
      "text/plain": [
       "3.5255285642993797"
      ]
     },
     "execution_count": 24,
     "metadata": {},
     "output_type": "execute_result"
    }
   ],
   "source": [
    "ratingsdf['rating'].mean()"
   ]
  },
  {
   "cell_type": "code",
   "execution_count": 25,
   "metadata": {},
   "outputs": [
    {
     "data": {
      "text/plain": [
       "1.1066806862788214"
      ]
     },
     "execution_count": 25,
     "metadata": {},
     "output_type": "execute_result"
    }
   ],
   "source": [
    "ratingsdf['rating'].var()"
   ]
  },
  {
   "cell_type": "code",
   "execution_count": 26,
   "metadata": {},
   "outputs": [
    {
     "data": {
      "text/plain": [
       "1.051988919275684"
      ]
     },
     "execution_count": 26,
     "metadata": {},
     "output_type": "execute_result"
    }
   ],
   "source": [
    "ratingsdf['rating'].std()"
   ]
  },
  {
   "cell_type": "code",
   "execution_count": 28,
   "metadata": {},
   "outputs": [
    {
     "data": {
      "text/plain": [
       "0     3.5\n",
       "1     7.0\n",
       "2    10.5\n",
       "3    14.0\n",
       "4    17.5\n",
       "Name: rating, dtype: float64"
      ]
     },
     "execution_count": 28,
     "metadata": {},
     "output_type": "execute_result"
    }
   ],
   "source": [
    "ratingsdf['rating'].cumsum().head()"
   ]
  },
  {
   "cell_type": "code",
   "execution_count": 30,
   "metadata": {},
   "outputs": [
    {
     "data": {
      "text/plain": [
       "userId       0\n",
       "movieId      0\n",
       "rating       0\n",
       "timestamp    0\n",
       "dtype: int64"
      ]
     },
     "execution_count": 30,
     "metadata": {},
     "output_type": "execute_result"
    }
   ],
   "source": [
    "\"6) Filter out ratings with rating > 5\"\n",
    "\n",
    "ratingsdf[ratingsdf['rating'] > 5].count()"
   ]
  },
  {
   "cell_type": "code",
   "execution_count": 41,
   "metadata": {},
   "outputs": [
    {
     "data": {
      "text/plain": [
       "userId       0\n",
       "movieId      0\n",
       "rating       0\n",
       "timestamp    0\n",
       "dtype: int64"
      ]
     },
     "execution_count": 41,
     "metadata": {},
     "output_type": "execute_result"
    }
   ],
   "source": [
    "\"7) Find how many null values, missing values are present. Deal with them. Print out how many rows have been modified.\"\n",
    "\n",
    "\n",
    "ratingsdf.isnull().sum()\n"
   ]
  },
  {
   "cell_type": "code",
   "execution_count": 42,
   "metadata": {},
   "outputs": [
    {
     "data": {
      "text/plain": [
       "movieId    0\n",
       "title      0\n",
       "genres     0\n",
       "dtype: int64"
      ]
     },
     "execution_count": 42,
     "metadata": {},
     "output_type": "execute_result"
    }
   ],
   "source": [
    "moviesdf.isnull().sum()\n"
   ]
  },
  {
   "cell_type": "code",
   "execution_count": 43,
   "metadata": {},
   "outputs": [
    {
     "data": {
      "text/plain": [
       "userId        0\n",
       "movieId       0\n",
       "tag          16\n",
       "timestamp     0\n",
       "dtype: int64"
      ]
     },
     "execution_count": 43,
     "metadata": {},
     "output_type": "execute_result"
    }
   ],
   "source": [
    "tagsdf.isnull().sum()"
   ]
  },
  {
   "cell_type": "code",
   "execution_count": 45,
   "metadata": {},
   "outputs": [
    {
     "data": {
      "text/html": [
       "<div>\n",
       "<style scoped>\n",
       "    .dataframe tbody tr th:only-of-type {\n",
       "        vertical-align: middle;\n",
       "    }\n",
       "\n",
       "    .dataframe tbody tr th {\n",
       "        vertical-align: top;\n",
       "    }\n",
       "\n",
       "    .dataframe thead th {\n",
       "        text-align: right;\n",
       "    }\n",
       "</style>\n",
       "<table border=\"1\" class=\"dataframe\">\n",
       "  <thead>\n",
       "    <tr style=\"text-align: right;\">\n",
       "      <th></th>\n",
       "      <th>userId</th>\n",
       "      <th>movieId</th>\n",
       "      <th>tag</th>\n",
       "      <th>timestamp</th>\n",
       "    </tr>\n",
       "  </thead>\n",
       "  <tbody>\n",
       "    <tr>\n",
       "      <th>373276</th>\n",
       "      <td>116460</td>\n",
       "      <td>123</td>\n",
       "      <td>NaN</td>\n",
       "      <td>1199450867</td>\n",
       "    </tr>\n",
       "    <tr>\n",
       "      <th>373277</th>\n",
       "      <td>116460</td>\n",
       "      <td>346</td>\n",
       "      <td>NaN</td>\n",
       "      <td>1199451946</td>\n",
       "    </tr>\n",
       "    <tr>\n",
       "      <th>373281</th>\n",
       "      <td>116460</td>\n",
       "      <td>1184</td>\n",
       "      <td>NaN</td>\n",
       "      <td>1199452261</td>\n",
       "    </tr>\n",
       "    <tr>\n",
       "      <th>373288</th>\n",
       "      <td>116460</td>\n",
       "      <td>1785</td>\n",
       "      <td>NaN</td>\n",
       "      <td>1199452006</td>\n",
       "    </tr>\n",
       "    <tr>\n",
       "      <th>373289</th>\n",
       "      <td>116460</td>\n",
       "      <td>2194</td>\n",
       "      <td>NaN</td>\n",
       "      <td>1199450677</td>\n",
       "    </tr>\n",
       "    <tr>\n",
       "      <th>373291</th>\n",
       "      <td>116460</td>\n",
       "      <td>2691</td>\n",
       "      <td>NaN</td>\n",
       "      <td>1199451002</td>\n",
       "    </tr>\n",
       "    <tr>\n",
       "      <th>373299</th>\n",
       "      <td>116460</td>\n",
       "      <td>4103</td>\n",
       "      <td>NaN</td>\n",
       "      <td>1199451920</td>\n",
       "    </tr>\n",
       "    <tr>\n",
       "      <th>373301</th>\n",
       "      <td>116460</td>\n",
       "      <td>4473</td>\n",
       "      <td>NaN</td>\n",
       "      <td>1199451040</td>\n",
       "    </tr>\n",
       "    <tr>\n",
       "      <th>373303</th>\n",
       "      <td>116460</td>\n",
       "      <td>4616</td>\n",
       "      <td>NaN</td>\n",
       "      <td>1199452441</td>\n",
       "    </tr>\n",
       "    <tr>\n",
       "      <th>373319</th>\n",
       "      <td>116460</td>\n",
       "      <td>7624</td>\n",
       "      <td>NaN</td>\n",
       "      <td>1199452266</td>\n",
       "    </tr>\n",
       "    <tr>\n",
       "      <th>373325</th>\n",
       "      <td>116460</td>\n",
       "      <td>8898</td>\n",
       "      <td>NaN</td>\n",
       "      <td>1199450757</td>\n",
       "    </tr>\n",
       "    <tr>\n",
       "      <th>373332</th>\n",
       "      <td>116460</td>\n",
       "      <td>32460</td>\n",
       "      <td>NaN</td>\n",
       "      <td>1199450901</td>\n",
       "    </tr>\n",
       "    <tr>\n",
       "      <th>373334</th>\n",
       "      <td>116460</td>\n",
       "      <td>33826</td>\n",
       "      <td>NaN</td>\n",
       "      <td>1199450703</td>\n",
       "    </tr>\n",
       "    <tr>\n",
       "      <th>373339</th>\n",
       "      <td>116460</td>\n",
       "      <td>36537</td>\n",
       "      <td>NaN</td>\n",
       "      <td>1199450736</td>\n",
       "    </tr>\n",
       "    <tr>\n",
       "      <th>373340</th>\n",
       "      <td>116460</td>\n",
       "      <td>55805</td>\n",
       "      <td>NaN</td>\n",
       "      <td>1199450941</td>\n",
       "    </tr>\n",
       "    <tr>\n",
       "      <th>454615</th>\n",
       "      <td>133634</td>\n",
       "      <td>33826</td>\n",
       "      <td>NaN</td>\n",
       "      <td>1221450908</td>\n",
       "    </tr>\n",
       "  </tbody>\n",
       "</table>\n",
       "</div>"
      ],
      "text/plain": [
       "        userId  movieId  tag   timestamp\n",
       "373276  116460      123  NaN  1199450867\n",
       "373277  116460      346  NaN  1199451946\n",
       "373281  116460     1184  NaN  1199452261\n",
       "373288  116460     1785  NaN  1199452006\n",
       "373289  116460     2194  NaN  1199450677\n",
       "373291  116460     2691  NaN  1199451002\n",
       "373299  116460     4103  NaN  1199451920\n",
       "373301  116460     4473  NaN  1199451040\n",
       "373303  116460     4616  NaN  1199452441\n",
       "373319  116460     7624  NaN  1199452266\n",
       "373325  116460     8898  NaN  1199450757\n",
       "373332  116460    32460  NaN  1199450901\n",
       "373334  116460    33826  NaN  1199450703\n",
       "373339  116460    36537  NaN  1199450736\n",
       "373340  116460    55805  NaN  1199450941\n",
       "454615  133634    33826  NaN  1221450908"
      ]
     },
     "execution_count": 45,
     "metadata": {},
     "output_type": "execute_result"
    }
   ],
   "source": [
    "tagsdf[tagsdf['tag'].isnull() == True]"
   ]
  },
  {
   "cell_type": "code",
   "execution_count": 47,
   "metadata": {},
   "outputs": [
    {
     "data": {
      "text/html": [
       "<div>\n",
       "<style scoped>\n",
       "    .dataframe tbody tr th:only-of-type {\n",
       "        vertical-align: middle;\n",
       "    }\n",
       "\n",
       "    .dataframe tbody tr th {\n",
       "        vertical-align: top;\n",
       "    }\n",
       "\n",
       "    .dataframe thead th {\n",
       "        text-align: right;\n",
       "    }\n",
       "</style>\n",
       "<table border=\"1\" class=\"dataframe\">\n",
       "  <thead>\n",
       "    <tr style=\"text-align: right;\">\n",
       "      <th></th>\n",
       "      <th>userId</th>\n",
       "      <th>movieId</th>\n",
       "      <th>tag</th>\n",
       "      <th>timestamp</th>\n",
       "    </tr>\n",
       "  </thead>\n",
       "  <tbody>\n",
       "    <tr>\n",
       "      <th>373276</th>\n",
       "      <td>116460</td>\n",
       "      <td>123</td>\n",
       "      <td>Missing</td>\n",
       "      <td>1199450867</td>\n",
       "    </tr>\n",
       "    <tr>\n",
       "      <th>373277</th>\n",
       "      <td>116460</td>\n",
       "      <td>346</td>\n",
       "      <td>Missing</td>\n",
       "      <td>1199451946</td>\n",
       "    </tr>\n",
       "    <tr>\n",
       "      <th>373281</th>\n",
       "      <td>116460</td>\n",
       "      <td>1184</td>\n",
       "      <td>Missing</td>\n",
       "      <td>1199452261</td>\n",
       "    </tr>\n",
       "    <tr>\n",
       "      <th>373288</th>\n",
       "      <td>116460</td>\n",
       "      <td>1785</td>\n",
       "      <td>Missing</td>\n",
       "      <td>1199452006</td>\n",
       "    </tr>\n",
       "    <tr>\n",
       "      <th>373289</th>\n",
       "      <td>116460</td>\n",
       "      <td>2194</td>\n",
       "      <td>Missing</td>\n",
       "      <td>1199450677</td>\n",
       "    </tr>\n",
       "    <tr>\n",
       "      <th>373291</th>\n",
       "      <td>116460</td>\n",
       "      <td>2691</td>\n",
       "      <td>Missing</td>\n",
       "      <td>1199451002</td>\n",
       "    </tr>\n",
       "    <tr>\n",
       "      <th>373299</th>\n",
       "      <td>116460</td>\n",
       "      <td>4103</td>\n",
       "      <td>Missing</td>\n",
       "      <td>1199451920</td>\n",
       "    </tr>\n",
       "    <tr>\n",
       "      <th>373301</th>\n",
       "      <td>116460</td>\n",
       "      <td>4473</td>\n",
       "      <td>Missing</td>\n",
       "      <td>1199451040</td>\n",
       "    </tr>\n",
       "    <tr>\n",
       "      <th>373303</th>\n",
       "      <td>116460</td>\n",
       "      <td>4616</td>\n",
       "      <td>Missing</td>\n",
       "      <td>1199452441</td>\n",
       "    </tr>\n",
       "    <tr>\n",
       "      <th>373319</th>\n",
       "      <td>116460</td>\n",
       "      <td>7624</td>\n",
       "      <td>Missing</td>\n",
       "      <td>1199452266</td>\n",
       "    </tr>\n",
       "    <tr>\n",
       "      <th>373325</th>\n",
       "      <td>116460</td>\n",
       "      <td>8898</td>\n",
       "      <td>Missing</td>\n",
       "      <td>1199450757</td>\n",
       "    </tr>\n",
       "    <tr>\n",
       "      <th>373332</th>\n",
       "      <td>116460</td>\n",
       "      <td>32460</td>\n",
       "      <td>Missing</td>\n",
       "      <td>1199450901</td>\n",
       "    </tr>\n",
       "    <tr>\n",
       "      <th>373334</th>\n",
       "      <td>116460</td>\n",
       "      <td>33826</td>\n",
       "      <td>Missing</td>\n",
       "      <td>1199450703</td>\n",
       "    </tr>\n",
       "    <tr>\n",
       "      <th>373339</th>\n",
       "      <td>116460</td>\n",
       "      <td>36537</td>\n",
       "      <td>Missing</td>\n",
       "      <td>1199450736</td>\n",
       "    </tr>\n",
       "    <tr>\n",
       "      <th>373340</th>\n",
       "      <td>116460</td>\n",
       "      <td>55805</td>\n",
       "      <td>Missing</td>\n",
       "      <td>1199450941</td>\n",
       "    </tr>\n",
       "    <tr>\n",
       "      <th>454615</th>\n",
       "      <td>133634</td>\n",
       "      <td>33826</td>\n",
       "      <td>Missing</td>\n",
       "      <td>1221450908</td>\n",
       "    </tr>\n",
       "  </tbody>\n",
       "</table>\n",
       "</div>"
      ],
      "text/plain": [
       "        userId  movieId      tag   timestamp\n",
       "373276  116460      123  Missing  1199450867\n",
       "373277  116460      346  Missing  1199451946\n",
       "373281  116460     1184  Missing  1199452261\n",
       "373288  116460     1785  Missing  1199452006\n",
       "373289  116460     2194  Missing  1199450677\n",
       "373291  116460     2691  Missing  1199451002\n",
       "373299  116460     4103  Missing  1199451920\n",
       "373301  116460     4473  Missing  1199451040\n",
       "373303  116460     4616  Missing  1199452441\n",
       "373319  116460     7624  Missing  1199452266\n",
       "373325  116460     8898  Missing  1199450757\n",
       "373332  116460    32460  Missing  1199450901\n",
       "373334  116460    33826  Missing  1199450703\n",
       "373339  116460    36537  Missing  1199450736\n",
       "373340  116460    55805  Missing  1199450941\n",
       "454615  133634    33826  Missing  1221450908"
      ]
     },
     "execution_count": 47,
     "metadata": {},
     "output_type": "execute_result"
    }
   ],
   "source": [
    "tagsdf[tagsdf['tag'].isnull() == True].fillna(value='Missing')"
   ]
  },
  {
   "cell_type": "code",
   "execution_count": 50,
   "metadata": {},
   "outputs": [
    {
     "data": {
      "text/plain": [
       "movieId    83\n",
       "title      83\n",
       "genres     83\n",
       "dtype: int64"
      ]
     },
     "execution_count": 50,
     "metadata": {},
     "output_type": "execute_result"
    }
   ],
   "source": [
    "\"8) Filter out movies from the movies DataFrame that are of type 'Animation'.\"\n",
    "\n",
    "moviesdf[moviesdf['genres'] == 'Animation'].count()"
   ]
  },
  {
   "cell_type": "code",
   "execution_count": 59,
   "metadata": {},
   "outputs": [
    {
     "data": {
      "text/plain": [
       "movieId    1027\n",
       "title      1027\n",
       "genres     1027\n",
       "dtype: int64"
      ]
     },
     "execution_count": 59,
     "metadata": {},
     "output_type": "execute_result"
    }
   ],
   "source": [
    "moviesdf[moviesdf['genres'].str.contains('Animation')].count()"
   ]
  },
  {
   "cell_type": "code",
   "execution_count": 61,
   "metadata": {},
   "outputs": [
    {
     "data": {
      "text/plain": [
       "3.5255285642993797"
      ]
     },
     "execution_count": 61,
     "metadata": {},
     "output_type": "execute_result"
    }
   ],
   "source": [
    "\"9) Find the average rating of movies.\"\n",
    "\n",
    "ratingsdf['rating'].mean()"
   ]
  },
  {
   "cell_type": "code",
   "execution_count": 62,
   "metadata": {},
   "outputs": [
    {
     "data": {
      "text/html": [
       "<div>\n",
       "<style scoped>\n",
       "    .dataframe tbody tr th:only-of-type {\n",
       "        vertical-align: middle;\n",
       "    }\n",
       "\n",
       "    .dataframe tbody tr th {\n",
       "        vertical-align: top;\n",
       "    }\n",
       "\n",
       "    .dataframe thead th {\n",
       "        text-align: right;\n",
       "    }\n",
       "</style>\n",
       "<table border=\"1\" class=\"dataframe\">\n",
       "  <thead>\n",
       "    <tr style=\"text-align: right;\">\n",
       "      <th></th>\n",
       "      <th>movieId</th>\n",
       "      <th>title</th>\n",
       "      <th>genres</th>\n",
       "    </tr>\n",
       "  </thead>\n",
       "  <tbody>\n",
       "    <tr>\n",
       "      <th>0</th>\n",
       "      <td>1</td>\n",
       "      <td>Toy Story (1995)</td>\n",
       "      <td>Adventure|Animation|Children|Comedy|Fantasy</td>\n",
       "    </tr>\n",
       "    <tr>\n",
       "      <th>1</th>\n",
       "      <td>2</td>\n",
       "      <td>Jumanji (1995)</td>\n",
       "      <td>Adventure|Children|Fantasy</td>\n",
       "    </tr>\n",
       "    <tr>\n",
       "      <th>2</th>\n",
       "      <td>3</td>\n",
       "      <td>Grumpier Old Men (1995)</td>\n",
       "      <td>Comedy|Romance</td>\n",
       "    </tr>\n",
       "    <tr>\n",
       "      <th>3</th>\n",
       "      <td>4</td>\n",
       "      <td>Waiting to Exhale (1995)</td>\n",
       "      <td>Comedy|Drama|Romance</td>\n",
       "    </tr>\n",
       "    <tr>\n",
       "      <th>4</th>\n",
       "      <td>5</td>\n",
       "      <td>Father of the Bride Part II (1995)</td>\n",
       "      <td>Comedy</td>\n",
       "    </tr>\n",
       "  </tbody>\n",
       "</table>\n",
       "</div>"
      ],
      "text/plain": [
       "   movieId                               title  \\\n",
       "0        1                    Toy Story (1995)   \n",
       "1        2                      Jumanji (1995)   \n",
       "2        3             Grumpier Old Men (1995)   \n",
       "3        4            Waiting to Exhale (1995)   \n",
       "4        5  Father of the Bride Part II (1995)   \n",
       "\n",
       "                                        genres  \n",
       "0  Adventure|Animation|Children|Comedy|Fantasy  \n",
       "1                   Adventure|Children|Fantasy  \n",
       "2                               Comedy|Romance  \n",
       "3                         Comedy|Drama|Romance  \n",
       "4                                       Comedy  "
      ]
     },
     "execution_count": 62,
     "metadata": {},
     "output_type": "execute_result"
    }
   ],
   "source": [
    "\"10) Perform an inner join of movies and tags based on movieId.\"\n",
    "\n",
    "moviesdf.head()"
   ]
  },
  {
   "cell_type": "code",
   "execution_count": 63,
   "metadata": {},
   "outputs": [
    {
     "data": {
      "text/html": [
       "<div>\n",
       "<style scoped>\n",
       "    .dataframe tbody tr th:only-of-type {\n",
       "        vertical-align: middle;\n",
       "    }\n",
       "\n",
       "    .dataframe tbody tr th {\n",
       "        vertical-align: top;\n",
       "    }\n",
       "\n",
       "    .dataframe thead th {\n",
       "        text-align: right;\n",
       "    }\n",
       "</style>\n",
       "<table border=\"1\" class=\"dataframe\">\n",
       "  <thead>\n",
       "    <tr style=\"text-align: right;\">\n",
       "      <th></th>\n",
       "      <th>userId</th>\n",
       "      <th>movieId</th>\n",
       "      <th>tag</th>\n",
       "      <th>timestamp</th>\n",
       "    </tr>\n",
       "  </thead>\n",
       "  <tbody>\n",
       "    <tr>\n",
       "      <th>0</th>\n",
       "      <td>18</td>\n",
       "      <td>4141</td>\n",
       "      <td>Mark Waters</td>\n",
       "      <td>1240597180</td>\n",
       "    </tr>\n",
       "    <tr>\n",
       "      <th>1</th>\n",
       "      <td>65</td>\n",
       "      <td>208</td>\n",
       "      <td>dark hero</td>\n",
       "      <td>1368150078</td>\n",
       "    </tr>\n",
       "    <tr>\n",
       "      <th>2</th>\n",
       "      <td>65</td>\n",
       "      <td>353</td>\n",
       "      <td>dark hero</td>\n",
       "      <td>1368150079</td>\n",
       "    </tr>\n",
       "    <tr>\n",
       "      <th>3</th>\n",
       "      <td>65</td>\n",
       "      <td>521</td>\n",
       "      <td>noir thriller</td>\n",
       "      <td>1368149983</td>\n",
       "    </tr>\n",
       "    <tr>\n",
       "      <th>4</th>\n",
       "      <td>65</td>\n",
       "      <td>592</td>\n",
       "      <td>dark hero</td>\n",
       "      <td>1368150078</td>\n",
       "    </tr>\n",
       "  </tbody>\n",
       "</table>\n",
       "</div>"
      ],
      "text/plain": [
       "   userId  movieId            tag   timestamp\n",
       "0      18     4141    Mark Waters  1240597180\n",
       "1      65      208      dark hero  1368150078\n",
       "2      65      353      dark hero  1368150079\n",
       "3      65      521  noir thriller  1368149983\n",
       "4      65      592      dark hero  1368150078"
      ]
     },
     "execution_count": 63,
     "metadata": {},
     "output_type": "execute_result"
    }
   ],
   "source": [
    "tagsdf.head()"
   ]
  },
  {
   "cell_type": "code",
   "execution_count": 66,
   "metadata": {},
   "outputs": [
    {
     "data": {
      "text/html": [
       "<div>\n",
       "<style scoped>\n",
       "    .dataframe tbody tr th:only-of-type {\n",
       "        vertical-align: middle;\n",
       "    }\n",
       "\n",
       "    .dataframe tbody tr th {\n",
       "        vertical-align: top;\n",
       "    }\n",
       "\n",
       "    .dataframe thead th {\n",
       "        text-align: right;\n",
       "    }\n",
       "</style>\n",
       "<table border=\"1\" class=\"dataframe\">\n",
       "  <thead>\n",
       "    <tr style=\"text-align: right;\">\n",
       "      <th></th>\n",
       "      <th>userId</th>\n",
       "      <th>movieId</th>\n",
       "      <th>tag</th>\n",
       "      <th>timestamp</th>\n",
       "      <th>title</th>\n",
       "      <th>genres</th>\n",
       "    </tr>\n",
       "  </thead>\n",
       "  <tbody>\n",
       "    <tr>\n",
       "      <th>0</th>\n",
       "      <td>18</td>\n",
       "      <td>4141</td>\n",
       "      <td>Mark Waters</td>\n",
       "      <td>1240597180</td>\n",
       "      <td>Head Over Heels (2001)</td>\n",
       "      <td>Comedy|Romance</td>\n",
       "    </tr>\n",
       "    <tr>\n",
       "      <th>1</th>\n",
       "      <td>66193</td>\n",
       "      <td>4141</td>\n",
       "      <td>naive</td>\n",
       "      <td>1294446130</td>\n",
       "      <td>Head Over Heels (2001)</td>\n",
       "      <td>Comedy|Romance</td>\n",
       "    </tr>\n",
       "    <tr>\n",
       "      <th>2</th>\n",
       "      <td>70201</td>\n",
       "      <td>4141</td>\n",
       "      <td>Mark Waters</td>\n",
       "      <td>1308333224</td>\n",
       "      <td>Head Over Heels (2001)</td>\n",
       "      <td>Comedy|Romance</td>\n",
       "    </tr>\n",
       "    <tr>\n",
       "      <th>3</th>\n",
       "      <td>89274</td>\n",
       "      <td>4141</td>\n",
       "      <td>Freddie Prinze Jr.</td>\n",
       "      <td>1375164095</td>\n",
       "      <td>Head Over Heels (2001)</td>\n",
       "      <td>Comedy|Romance</td>\n",
       "    </tr>\n",
       "    <tr>\n",
       "      <th>4</th>\n",
       "      <td>65</td>\n",
       "      <td>208</td>\n",
       "      <td>dark hero</td>\n",
       "      <td>1368150078</td>\n",
       "      <td>Waterworld (1995)</td>\n",
       "      <td>Action|Adventure|Sci-Fi</td>\n",
       "    </tr>\n",
       "    <tr>\n",
       "      <th>5</th>\n",
       "      <td>619</td>\n",
       "      <td>208</td>\n",
       "      <td>Kevin Costner</td>\n",
       "      <td>1187162734</td>\n",
       "      <td>Waterworld (1995)</td>\n",
       "      <td>Action|Adventure|Sci-Fi</td>\n",
       "    </tr>\n",
       "    <tr>\n",
       "      <th>6</th>\n",
       "      <td>2062</td>\n",
       "      <td>208</td>\n",
       "      <td>adventure</td>\n",
       "      <td>1286238272</td>\n",
       "      <td>Waterworld (1995)</td>\n",
       "      <td>Action|Adventure|Sci-Fi</td>\n",
       "    </tr>\n",
       "    <tr>\n",
       "      <th>7</th>\n",
       "      <td>2062</td>\n",
       "      <td>208</td>\n",
       "      <td>dystopia</td>\n",
       "      <td>1286238251</td>\n",
       "      <td>Waterworld (1995)</td>\n",
       "      <td>Action|Adventure|Sci-Fi</td>\n",
       "    </tr>\n",
       "    <tr>\n",
       "      <th>8</th>\n",
       "      <td>2062</td>\n",
       "      <td>208</td>\n",
       "      <td>dystopic future</td>\n",
       "      <td>1286238259</td>\n",
       "      <td>Waterworld (1995)</td>\n",
       "      <td>Action|Adventure|Sci-Fi</td>\n",
       "    </tr>\n",
       "    <tr>\n",
       "      <th>9</th>\n",
       "      <td>2062</td>\n",
       "      <td>208</td>\n",
       "      <td>post-apocalyptic</td>\n",
       "      <td>1286238224</td>\n",
       "      <td>Waterworld (1995)</td>\n",
       "      <td>Action|Adventure|Sci-Fi</td>\n",
       "    </tr>\n",
       "  </tbody>\n",
       "</table>\n",
       "</div>"
      ],
      "text/plain": [
       "   userId  movieId                 tag   timestamp                   title  \\\n",
       "0      18     4141         Mark Waters  1240597180  Head Over Heels (2001)   \n",
       "1   66193     4141               naive  1294446130  Head Over Heels (2001)   \n",
       "2   70201     4141         Mark Waters  1308333224  Head Over Heels (2001)   \n",
       "3   89274     4141  Freddie Prinze Jr.  1375164095  Head Over Heels (2001)   \n",
       "4      65      208           dark hero  1368150078       Waterworld (1995)   \n",
       "5     619      208       Kevin Costner  1187162734       Waterworld (1995)   \n",
       "6    2062      208           adventure  1286238272       Waterworld (1995)   \n",
       "7    2062      208            dystopia  1286238251       Waterworld (1995)   \n",
       "8    2062      208     dystopic future  1286238259       Waterworld (1995)   \n",
       "9    2062      208    post-apocalyptic  1286238224       Waterworld (1995)   \n",
       "\n",
       "                    genres  \n",
       "0           Comedy|Romance  \n",
       "1           Comedy|Romance  \n",
       "2           Comedy|Romance  \n",
       "3           Comedy|Romance  \n",
       "4  Action|Adventure|Sci-Fi  \n",
       "5  Action|Adventure|Sci-Fi  \n",
       "6  Action|Adventure|Sci-Fi  \n",
       "7  Action|Adventure|Sci-Fi  \n",
       "8  Action|Adventure|Sci-Fi  \n",
       "9  Action|Adventure|Sci-Fi  "
      ]
     },
     "execution_count": 66,
     "metadata": {},
     "output_type": "execute_result"
    }
   ],
   "source": [
    "\"10) Perform an inner join of movies and tags based on movieId.\"\n",
    "\n",
    "pd.merge(tagsdf,moviesdf,how='inner',on=['movieId']).head(10)"
   ]
  },
  {
   "cell_type": "code",
   "execution_count": 105,
   "metadata": {},
   "outputs": [
    {
     "data": {
      "text/plain": [
       "array(['Toy Story (1995)', 'Grumpier Old Men (1995)',\n",
       "       'Waiting to Exhale (1995)', ...,\n",
       "       'George Carlin: Life Is Worth Losing (2005)',\n",
       "       'Love and Pigeons (1985)', 'But Forever in My Mind (1999)'],\n",
       "      dtype=object)"
      ]
     },
     "execution_count": 105,
     "metadata": {},
     "output_type": "execute_result"
    }
   ],
   "source": [
    "\"11) Print out the 5 movies that belong to the Comedy genre and have rating greater than 4.\"\n",
    "\n",
    "movies_ratingsdf=pd.merge(moviesdf,ratingsdf,how='inner',on=['movieId'])\n",
    "movies_ratingsdf[(movies_ratingsdf['genres'].str.contains('Comedy') == True) & (movies_ratingsdf['rating'] > 4)]['title'].unique()\n"
   ]
  },
  {
   "cell_type": "code",
   "execution_count": 77,
   "metadata": {},
   "outputs": [
    {
     "data": {
      "text/html": [
       "<div>\n",
       "<style scoped>\n",
       "    .dataframe tbody tr th:only-of-type {\n",
       "        vertical-align: middle;\n",
       "    }\n",
       "\n",
       "    .dataframe tbody tr th {\n",
       "        vertical-align: top;\n",
       "    }\n",
       "\n",
       "    .dataframe thead th {\n",
       "        text-align: right;\n",
       "    }\n",
       "</style>\n",
       "<table border=\"1\" class=\"dataframe\">\n",
       "  <thead>\n",
       "    <tr style=\"text-align: right;\">\n",
       "      <th></th>\n",
       "      <th>0</th>\n",
       "      <th>1</th>\n",
       "      <th>2</th>\n",
       "      <th>3</th>\n",
       "      <th>4</th>\n",
       "      <th>5</th>\n",
       "      <th>6</th>\n",
       "      <th>7</th>\n",
       "      <th>8</th>\n",
       "      <th>9</th>\n",
       "    </tr>\n",
       "  </thead>\n",
       "  <tbody>\n",
       "    <tr>\n",
       "      <th>0</th>\n",
       "      <td>Adventure</td>\n",
       "      <td>Animation</td>\n",
       "      <td>Children</td>\n",
       "      <td>Comedy</td>\n",
       "      <td>Fantasy</td>\n",
       "      <td>None</td>\n",
       "      <td>None</td>\n",
       "      <td>None</td>\n",
       "      <td>None</td>\n",
       "      <td>None</td>\n",
       "    </tr>\n",
       "    <tr>\n",
       "      <th>1</th>\n",
       "      <td>Adventure</td>\n",
       "      <td>Children</td>\n",
       "      <td>Fantasy</td>\n",
       "      <td>None</td>\n",
       "      <td>None</td>\n",
       "      <td>None</td>\n",
       "      <td>None</td>\n",
       "      <td>None</td>\n",
       "      <td>None</td>\n",
       "      <td>None</td>\n",
       "    </tr>\n",
       "    <tr>\n",
       "      <th>2</th>\n",
       "      <td>Comedy</td>\n",
       "      <td>Romance</td>\n",
       "      <td>None</td>\n",
       "      <td>None</td>\n",
       "      <td>None</td>\n",
       "      <td>None</td>\n",
       "      <td>None</td>\n",
       "      <td>None</td>\n",
       "      <td>None</td>\n",
       "      <td>None</td>\n",
       "    </tr>\n",
       "    <tr>\n",
       "      <th>3</th>\n",
       "      <td>Comedy</td>\n",
       "      <td>Drama</td>\n",
       "      <td>Romance</td>\n",
       "      <td>None</td>\n",
       "      <td>None</td>\n",
       "      <td>None</td>\n",
       "      <td>None</td>\n",
       "      <td>None</td>\n",
       "      <td>None</td>\n",
       "      <td>None</td>\n",
       "    </tr>\n",
       "    <tr>\n",
       "      <th>4</th>\n",
       "      <td>Comedy</td>\n",
       "      <td>None</td>\n",
       "      <td>None</td>\n",
       "      <td>None</td>\n",
       "      <td>None</td>\n",
       "      <td>None</td>\n",
       "      <td>None</td>\n",
       "      <td>None</td>\n",
       "      <td>None</td>\n",
       "      <td>None</td>\n",
       "    </tr>\n",
       "  </tbody>\n",
       "</table>\n",
       "</div>"
      ],
      "text/plain": [
       "           0          1         2       3        4     5     6     7     8  \\\n",
       "0  Adventure  Animation  Children  Comedy  Fantasy  None  None  None  None   \n",
       "1  Adventure   Children   Fantasy    None     None  None  None  None  None   \n",
       "2     Comedy    Romance      None    None     None  None  None  None  None   \n",
       "3     Comedy      Drama   Romance    None     None  None  None  None  None   \n",
       "4     Comedy       None      None    None     None  None  None  None  None   \n",
       "\n",
       "      9  \n",
       "0  None  \n",
       "1  None  \n",
       "2  None  \n",
       "3  None  \n",
       "4  None  "
      ]
     },
     "execution_count": 77,
     "metadata": {},
     "output_type": "execute_result"
    }
   ],
   "source": [
    "\"12) Split 'genres' into multiple columns.\"\n",
    "\n",
    "moviesdf['genres'].str.split('|',expand = True).head()\n"
   ]
  },
  {
   "cell_type": "code",
   "execution_count": 97,
   "metadata": {},
   "outputs": [
    {
     "data": {
      "text/plain": [
       "0    2009\n",
       "1    2013\n",
       "2    2013\n",
       "3    2013\n",
       "4    2013\n",
       "Name: timestamp, dtype: int64"
      ]
     },
     "execution_count": 97,
     "metadata": {},
     "output_type": "execute_result"
    }
   ],
   "source": [
    "\"13) Extract year from title e.g. (1995).\"\n",
    "import datetime\n",
    "\t\n",
    "pd.to_datetime(tagsdf['timestamp'], unit='s').dt.year.head()"
   ]
  },
  {
   "cell_type": "code",
   "execution_count": 111,
   "metadata": {},
   "outputs": [
    {
     "data": {
      "text/html": [
       "<div>\n",
       "<style scoped>\n",
       "    .dataframe tbody tr th:only-of-type {\n",
       "        vertical-align: middle;\n",
       "    }\n",
       "\n",
       "    .dataframe tbody tr th {\n",
       "        vertical-align: top;\n",
       "    }\n",
       "\n",
       "    .dataframe thead th {\n",
       "        text-align: right;\n",
       "    }\n",
       "</style>\n",
       "<table border=\"1\" class=\"dataframe\">\n",
       "  <thead>\n",
       "    <tr style=\"text-align: right;\">\n",
       "      <th></th>\n",
       "      <th>userId</th>\n",
       "      <th>movieId</th>\n",
       "      <th>tag</th>\n",
       "      <th>timestamp</th>\n",
       "      <th>DateTime</th>\n",
       "    </tr>\n",
       "  </thead>\n",
       "  <tbody>\n",
       "    <tr>\n",
       "      <th>339178</th>\n",
       "      <td>102853</td>\n",
       "      <td>115149</td>\n",
       "      <td>russian mafia</td>\n",
       "      <td>1427771352</td>\n",
       "      <td>2015-03-31 03:09:12</td>\n",
       "    </tr>\n",
       "    <tr>\n",
       "      <th>158780</th>\n",
       "      <td>46072</td>\n",
       "      <td>6058</td>\n",
       "      <td>premonition</td>\n",
       "      <td>1427760764</td>\n",
       "      <td>2015-03-31 00:12:44</td>\n",
       "    </tr>\n",
       "    <tr>\n",
       "      <th>158763</th>\n",
       "      <td>46072</td>\n",
       "      <td>3409</td>\n",
       "      <td>premonition</td>\n",
       "      <td>1427760726</td>\n",
       "      <td>2015-03-31 00:12:06</td>\n",
       "    </tr>\n",
       "    <tr>\n",
       "      <th>288375</th>\n",
       "      <td>87797</td>\n",
       "      <td>215</td>\n",
       "      <td>Vienna</td>\n",
       "      <td>1427755801</td>\n",
       "      <td>2015-03-30 22:50:01</td>\n",
       "    </tr>\n",
       "    <tr>\n",
       "      <th>290535</th>\n",
       "      <td>88044</td>\n",
       "      <td>106782</td>\n",
       "      <td>profanity</td>\n",
       "      <td>1427754096</td>\n",
       "      <td>2015-03-30 22:21:36</td>\n",
       "    </tr>\n",
       "  </tbody>\n",
       "</table>\n",
       "</div>"
      ],
      "text/plain": [
       "        userId  movieId            tag   timestamp            DateTime\n",
       "339178  102853   115149  russian mafia  1427771352 2015-03-31 03:09:12\n",
       "158780   46072     6058    premonition  1427760764 2015-03-31 00:12:44\n",
       "158763   46072     3409    premonition  1427760726 2015-03-31 00:12:06\n",
       "288375   87797      215         Vienna  1427755801 2015-03-30 22:50:01\n",
       "290535   88044   106782      profanity  1427754096 2015-03-30 22:21:36"
      ]
     },
     "execution_count": 111,
     "metadata": {},
     "output_type": "execute_result"
    }
   ],
   "source": [
    "\"15) Sort the tags DataFrame based on timestamp.\"\n",
    "tagsdf['DateTime'] = pd.to_datetime(tagsdf['timestamp'], unit='s')\n",
    "tagsdf.sort_values(['DateTime'],ascending = False).head()"
   ]
  },
  {
   "cell_type": "code",
   "execution_count": 112,
   "metadata": {},
   "outputs": [
    {
     "data": {
      "text/html": [
       "<div>\n",
       "<style scoped>\n",
       "    .dataframe tbody tr th:only-of-type {\n",
       "        vertical-align: middle;\n",
       "    }\n",
       "\n",
       "    .dataframe tbody tr th {\n",
       "        vertical-align: top;\n",
       "    }\n",
       "\n",
       "    .dataframe thead th {\n",
       "        text-align: right;\n",
       "    }\n",
       "</style>\n",
       "<table border=\"1\" class=\"dataframe\">\n",
       "  <thead>\n",
       "    <tr style=\"text-align: right;\">\n",
       "      <th></th>\n",
       "      <th>userId</th>\n",
       "      <th>movieId</th>\n",
       "      <th>tag</th>\n",
       "      <th>timestamp</th>\n",
       "      <th>DateTime</th>\n",
       "    </tr>\n",
       "  </thead>\n",
       "  <tbody>\n",
       "    <tr>\n",
       "      <th>339178</th>\n",
       "      <td>102853</td>\n",
       "      <td>115149</td>\n",
       "      <td>russian mafia</td>\n",
       "      <td>1427771352</td>\n",
       "      <td>2015-03-31 03:09:12</td>\n",
       "    </tr>\n",
       "    <tr>\n",
       "      <th>158780</th>\n",
       "      <td>46072</td>\n",
       "      <td>6058</td>\n",
       "      <td>premonition</td>\n",
       "      <td>1427760764</td>\n",
       "      <td>2015-03-31 00:12:44</td>\n",
       "    </tr>\n",
       "    <tr>\n",
       "      <th>158763</th>\n",
       "      <td>46072</td>\n",
       "      <td>3409</td>\n",
       "      <td>premonition</td>\n",
       "      <td>1427760726</td>\n",
       "      <td>2015-03-31 00:12:06</td>\n",
       "    </tr>\n",
       "    <tr>\n",
       "      <th>288375</th>\n",
       "      <td>87797</td>\n",
       "      <td>215</td>\n",
       "      <td>Vienna</td>\n",
       "      <td>1427755801</td>\n",
       "      <td>2015-03-30 22:50:01</td>\n",
       "    </tr>\n",
       "    <tr>\n",
       "      <th>290535</th>\n",
       "      <td>88044</td>\n",
       "      <td>106782</td>\n",
       "      <td>profanity</td>\n",
       "      <td>1427754096</td>\n",
       "      <td>2015-03-30 22:21:36</td>\n",
       "    </tr>\n",
       "  </tbody>\n",
       "</table>\n",
       "</div>"
      ],
      "text/plain": [
       "        userId  movieId            tag   timestamp            DateTime\n",
       "339178  102853   115149  russian mafia  1427771352 2015-03-31 03:09:12\n",
       "158780   46072     6058    premonition  1427760764 2015-03-31 00:12:44\n",
       "158763   46072     3409    premonition  1427760726 2015-03-31 00:12:06\n",
       "288375   87797      215         Vienna  1427755801 2015-03-30 22:50:01\n",
       "290535   88044   106782      profanity  1427754096 2015-03-30 22:21:36"
      ]
     },
     "execution_count": 112,
     "metadata": {},
     "output_type": "execute_result"
    }
   ],
   "source": [
    "tagsdf.sort_values(['timestamp'],ascending = False).head()"
   ]
  },
  {
   "cell_type": "code",
   "execution_count": 114,
   "metadata": {},
   "outputs": [
    {
     "data": {
      "text/html": [
       "<div>\n",
       "<style scoped>\n",
       "    .dataframe tbody tr th:only-of-type {\n",
       "        vertical-align: middle;\n",
       "    }\n",
       "\n",
       "    .dataframe tbody tr th {\n",
       "        vertical-align: top;\n",
       "    }\n",
       "\n",
       "    .dataframe thead th {\n",
       "        text-align: right;\n",
       "    }\n",
       "</style>\n",
       "<table border=\"1\" class=\"dataframe\">\n",
       "  <thead>\n",
       "    <tr style=\"text-align: right;\">\n",
       "      <th></th>\n",
       "      <th>userId</th>\n",
       "      <th>movieId</th>\n",
       "      <th>tag</th>\n",
       "      <th>timestamp</th>\n",
       "      <th>DateTime</th>\n",
       "    </tr>\n",
       "  </thead>\n",
       "  <tbody>\n",
       "    <tr>\n",
       "      <th>301</th>\n",
       "      <td>318</td>\n",
       "      <td>260</td>\n",
       "      <td>1970s</td>\n",
       "      <td>1424472169</td>\n",
       "      <td>2015-02-20 22:42:49</td>\n",
       "    </tr>\n",
       "    <tr>\n",
       "      <th>302</th>\n",
       "      <td>318</td>\n",
       "      <td>260</td>\n",
       "      <td>fantasy</td>\n",
       "      <td>1424472169</td>\n",
       "      <td>2015-02-20 22:42:49</td>\n",
       "    </tr>\n",
       "    <tr>\n",
       "      <th>303</th>\n",
       "      <td>318</td>\n",
       "      <td>260</td>\n",
       "      <td>sci-fi</td>\n",
       "      <td>1424472169</td>\n",
       "      <td>2015-02-20 22:42:49</td>\n",
       "    </tr>\n",
       "    <tr>\n",
       "      <th>304</th>\n",
       "      <td>318</td>\n",
       "      <td>115149</td>\n",
       "      <td>Action</td>\n",
       "      <td>1424534310</td>\n",
       "      <td>2015-02-21 15:58:30</td>\n",
       "    </tr>\n",
       "    <tr>\n",
       "      <th>305</th>\n",
       "      <td>318</td>\n",
       "      <td>115149</td>\n",
       "      <td>Revenge</td>\n",
       "      <td>1424534283</td>\n",
       "      <td>2015-02-21 15:58:03</td>\n",
       "    </tr>\n",
       "  </tbody>\n",
       "</table>\n",
       "</div>"
      ],
      "text/plain": [
       "     userId  movieId      tag   timestamp            DateTime\n",
       "301     318      260    1970s  1424472169 2015-02-20 22:42:49\n",
       "302     318      260  fantasy  1424472169 2015-02-20 22:42:49\n",
       "303     318      260   sci-fi  1424472169 2015-02-20 22:42:49\n",
       "304     318   115149   Action  1424534310 2015-02-21 15:58:30\n",
       "305     318   115149  Revenge  1424534283 2015-02-21 15:58:03"
      ]
     },
     "execution_count": 114,
     "metadata": {},
     "output_type": "execute_result"
    }
   ],
   "source": [
    "\"14) Select rows based on timestamps later than 2015-02-01.\"\n",
    "\n",
    "tagsdf[tagsdf['DateTime'] > '2015-02-01'].head()"
   ]
  },
  {
   "cell_type": "code",
   "execution_count": null,
   "metadata": {},
   "outputs": [],
   "source": []
  }
 ],
 "metadata": {
  "kernelspec": {
   "display_name": "Python 3",
   "language": "python",
   "name": "python3"
  },
  "language_info": {
   "codemirror_mode": {
    "name": "ipython",
    "version": 3
   },
   "file_extension": ".py",
   "mimetype": "text/x-python",
   "name": "python",
   "nbconvert_exporter": "python",
   "pygments_lexer": "ipython3",
   "version": "3.7.1"
  }
 },
 "nbformat": 4,
 "nbformat_minor": 2
}
